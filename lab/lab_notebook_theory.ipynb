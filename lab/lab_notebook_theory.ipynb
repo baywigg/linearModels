{
 "cells": [
  {
   "cell_type": "markdown",
   "metadata": {},
   "source": [
    "# Linear Modeling\n",
    "\n",
    "The goal of this lab is to design a class for linear regression, using no classes or functions from Scikit-Learn.\n",
    "\n",
    "Ensure your class satisfies:\n",
    "- Includes a class method to fit the model to a Pandas dataframe $X$ and a Pandas series $y$\n",
    "- Includes a class method to solve for the optimal coefficients\n",
    "- Includes a class method to make predictions, given a new matrix $\\hat{X}$\n",
    "- Does not invert any matrices explicitly. Instead, solve the normal equations using `np.lingalg.solve`.\n",
    "- It can be instructed to automatically perform a train-test split and return performance metrics on the test set.\n",
    "- It can provide metrics including SSE, MSE, RMSE, and $R^2$.\n",
    "\n",
    "Before programming your class, consider the following questions and record the answers:\n",
    "- How does your class handle categorical data? How does Sci-kit do it?\n",
    "- How does your class handle missing data? How does Sci-kit do it?\n",
    "- Does your class have any methods for creating polynomial expansions or otherwise transforming data? How does Sci-kit do it?\n",
    "- How does your class handle the bias/intercept/constant? How does Sci-kit do it?\n",
    "- What output do you automatically provide to the user? Why? How does Sci-kit do it?\n",
    "- Are you including any tools for statistical inference? How does Sci-kit do it?\n",
    "\n",
    "In order to measure how long it takes to run code, you can `import time`, and \n",
    "\n",
    "```\n",
    "start = time.time()\n",
    "<expressions and code>\n",
    "finish = time.time()\n",
    "runtime = start-finish\n",
    "```\n",
    "\n",
    "For the `heart_hw.csv` and `cars_hw.csv` data in the assignment folder, run some regressions and compare the performance of your class with Sci-Kit's linear regression model. Do you get the same answers for the optimal coefficients, SSE, and $R^2$? Which one runs faster?\n",
    "\n"
   ]
  },
  {
   "cell_type": "code",
   "execution_count": 21,
   "metadata": {},
   "outputs": [],
   "source": [
    "import numpy as np\n",
    "import pandas as pd\n",
    "import time\n",
    "import sys\n",
    "from sklearn.model_selection import train_test_split\n",
    "\n",
    "class CustomLinearModel:\n",
    "    def __init__(self, train_test_split_ratio=0.8):\n",
    "        self.coefficients = None\n",
    "        self.intercept = None\n",
    "        self.train_test_split_ratio = train_test_split_ratio\n",
    "        self.fitted = False\n",
    "\n",
    "    def fit(self, X, y, split=True):\n",
    "        if split:\n",
    "            X_train, X_test, y_train, y_test = train_test_split(X, y, train_size=self.train_test_split_ratio, random_state=42)\n",
    "        else:\n",
    "            X_train, y_train = X, y\n",
    "\n",
    "        # Intercept col\n",
    "        X_train = np.c_[np.ones(X_train.shape[0]), X_train]\n",
    "\n",
    "        # Normal equation using np.linalg.solve\n",
    "        start = time.time()\n",
    "        self.coefficients = np.linalg.solve(X_train.T @ X_train, X_train.T @ y_train)\n",
    "        end = time.time()\n",
    "\n",
    "        self.intercept = self.coefficients[0]\n",
    "        self.coefficients = self.coefficients[1:]\n",
    "        self.fitted = True\n",
    "\n",
    "        print(f\"Trained in {end - start} seconds\")\n",
    "\n",
    "        if split:\n",
    "            self.evaluate(X_test, y_test)\n",
    "        \n",
    "    def predict(self, X):\n",
    "        if not self.fitted:\n",
    "            print(\"Model must be fit before predicting\")\n",
    "            sys.exit()\n",
    "\n",
    "        # Intercept col\n",
    "        X = np.c_[np.ones(X.shape[0]), X]\n",
    "        return X @ np.r_[self.intercept, self.coefficients]\n",
    "    \n",
    "    def evaluate(self, X_test, y_test):\n",
    "        y_pred = self.predict(X_test)\n",
    "        SSE = np.sum((y_test - y_pred) ** 2)\n",
    "        MSE = SSE / len(y_test)\n",
    "        RMSE = np.sqrt(MSE)\n",
    "        R2 = 1 - (SSE / np.sum((y_test - np.mean(y_test)) ** 2))\n",
    "        \n",
    "        print(f\"SSE: {SSE}, MSE: {MSE}, RMSE: {RMSE}, R^2: {R2}\")\n",
    "        return {'SSE': SSE, 'MSE': MSE, 'RMSE': RMSE, 'R2': R2}\n"
   ]
  },
  {
   "cell_type": "code",
   "execution_count": 22,
   "metadata": {},
   "outputs": [],
   "source": [
    "# Datasets\n",
    "heart_df = pd.read_csv(\"../assignment/data/heart_hw.csv\")\n",
    "cars_df = pd.read_csv(\"./data/cars_hw.csv\")"
   ]
  },
  {
   "cell_type": "code",
   "execution_count": 23,
   "metadata": {},
   "outputs": [
    {
     "name": "stdout",
     "output_type": "stream",
     "text": [
      "Trained in 0.00011706352233886719 seconds\n",
      "SSE: 2.954182586449766, MSE: 0.14067536125951266, RMSE: 0.375067142335226, R^2: 0.36696087433219293\n",
      "Trained in 4.291534423828125e-05 seconds\n",
      "SSE: 15941185397031.21, MSE: 81332578556.2817, RMSE: 285188.67185826594, R^2: 0.29088245916105326\n"
     ]
    }
   ],
   "source": [
    "# Run the custom model on both datasets\n",
    "X_heart = heart_df.drop(columns=['y']).select_dtypes(include=[np.number])\n",
    "y_heart = heart_df['y']\n",
    "\n",
    "X_cars = cars_df.drop(columns=['Price']).select_dtypes(include=[np.number])\n",
    "y_cars = cars_df['Price']\n",
    "\n",
    "# Heart dataset\n",
    "custom_heart_model = CustomLinearModel()\n",
    "heart_metrics = custom_heart_model.fit(X_heart, y_heart, split=True)\n",
    "\n",
    "# Cars dataset\n",
    "custom_cars_model = CustomLinearModel()\n",
    "cars_metrics = custom_cars_model.fit(X_cars, y_cars, split=True)"
   ]
  },
  {
   "cell_type": "code",
   "execution_count": 24,
   "metadata": {},
   "outputs": [
    {
     "data": {
      "text/plain": [
       "({'SSE': np.float64(2.9541825864497664),\n",
       "  'MSE': 0.1406753612595127,\n",
       "  'RMSE': np.float64(0.37506714233522603),\n",
       "  'R2': 0.3669608743321928,\n",
       "  'runtime': 0.0005919933319091797},\n",
       " {'SSE': np.float64(15941185396972.443),\n",
       "  'MSE': 81332578555.98186,\n",
       "  'RMSE': np.float64(285188.67185774026),\n",
       "  'R2': 0.2908824591636674,\n",
       "  'runtime': 0.00074005126953125})"
      ]
     },
     "execution_count": 24,
     "metadata": {},
     "output_type": "execute_result"
    }
   ],
   "source": [
    "from sklearn.linear_model import LinearRegression\n",
    "from sklearn.metrics import mean_squared_error, r2_score\n",
    "def sklearn_regression_evaluation(X, y):\n",
    "    X_train, X_test, y_train, y_test = train_test_split(X, y, train_size=0.8, random_state=42)\n",
    "\n",
    "    model = LinearRegression()\n",
    "    start_time = time.time()\n",
    "    model.fit(X_train, y_train)\n",
    "    end_time = time.time()\n",
    "\n",
    "    y_pred = model.predict(X_test)\n",
    "    SSE = np.sum((y_test - y_pred) ** 2)\n",
    "    MSE = mean_squared_error(y_test, y_pred)\n",
    "    RMSE = np.sqrt(MSE)\n",
    "    R2 = r2_score(y_test, y_pred)\n",
    "    runtime = end_time - start_time\n",
    "\n",
    "    return {'SSE': SSE, 'MSE': MSE, 'RMSE': RMSE, 'R2': R2, 'runtime': runtime}\n",
    "\n",
    "# Heart dataset\n",
    "sklearn_heart_metrics = sklearn_regression_evaluation(X_heart, y_heart)\n",
    "\n",
    "# Cars dataset\n",
    "sklearn_cars_metrics = sklearn_regression_evaluation(X_cars, y_cars)\n",
    "\n",
    "sklearn_heart_metrics, sklearn_cars_metrics"
   ]
  },
  {
   "cell_type": "code",
   "execution_count": 25,
   "metadata": {},
   "outputs": [],
   "source": [
    "# The metrics between the custom and sklearn models are extremely similar, with the sklearn one running significantly faster on the 2 datasets. This is most likely due to more efficient implementation of the normal function under the hood."
   ]
  }
 ],
 "metadata": {
  "kernelspec": {
   "display_name": "Python 3",
   "language": "python",
   "name": "python3"
  },
  "language_info": {
   "codemirror_mode": {
    "name": "ipython",
    "version": 3
   },
   "file_extension": ".py",
   "mimetype": "text/x-python",
   "name": "python",
   "nbconvert_exporter": "python",
   "pygments_lexer": "ipython3",
   "version": "3.11.1"
  }
 },
 "nbformat": 4,
 "nbformat_minor": 2
}
